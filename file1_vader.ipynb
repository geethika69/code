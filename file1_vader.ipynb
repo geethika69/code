{
  "cells": [
    {
      "cell_type": "code",
      "execution_count": 30,
      "metadata": {
        "colab": {
          "base_uri": "https://localhost:8080/"
        },
        "id": "iNzBm-WfAgVU",
        "outputId": "25ab8bec-2521-4c77-a401-ab6fc208d9da"
      },
      "outputs": [
        {
          "output_type": "stream",
          "name": "stdout",
          "text": [
            "Drive already mounted at /content/drive; to attempt to forcibly remount, call drive.mount(\"/content/drive\", force_remount=True).\n"
          ]
        }
      ],
      "source": [
        "from google.colab import drive\n",
        "drive.mount('/content/drive')"
      ]
    },
    {
      "cell_type": "code",
      "execution_count": 31,
      "metadata": {
        "colab": {
          "base_uri": "https://localhost:8080/"
        },
        "id": "kDMqqV_vbMY_",
        "outputId": "d9ce1d88-8823-4392-8c23-b65f3466ba72"
      },
      "outputs": [
        {
          "output_type": "stream",
          "name": "stdout",
          "text": [
            "Looking in indexes: https://pypi.org/simple, https://us-python.pkg.dev/colab-wheels/public/simple/\n",
            "Requirement already satisfied: pyspark in /usr/local/lib/python3.8/dist-packages (3.3.1)\n",
            "Requirement already satisfied: py4j==0.10.9.5 in /usr/local/lib/python3.8/dist-packages (from pyspark) (0.10.9.5)\n"
          ]
        }
      ],
      "source": [
        "pip install pyspark"
      ]
    },
    {
      "cell_type": "code",
      "execution_count": 32,
      "metadata": {
        "colab": {
          "base_uri": "https://localhost:8080/"
        },
        "id": "3x-pChg7bYpk",
        "outputId": "d4e035e4-8fa2-4787-e44d-a3f1896d04c8"
      },
      "outputs": [
        {
          "output_type": "stream",
          "name": "stdout",
          "text": [
            "Looking in indexes: https://pypi.org/simple, https://us-python.pkg.dev/colab-wheels/public/simple/\n",
            "Requirement already satisfied: vaderSentiment in /usr/local/lib/python3.8/dist-packages (3.3.2)\n",
            "Requirement already satisfied: requests in /usr/local/lib/python3.8/dist-packages (from vaderSentiment) (2.23.0)\n",
            "Requirement already satisfied: certifi>=2017.4.17 in /usr/local/lib/python3.8/dist-packages (from requests->vaderSentiment) (2022.9.24)\n",
            "Requirement already satisfied: chardet<4,>=3.0.2 in /usr/local/lib/python3.8/dist-packages (from requests->vaderSentiment) (3.0.4)\n",
            "Requirement already satisfied: idna<3,>=2.5 in /usr/local/lib/python3.8/dist-packages (from requests->vaderSentiment) (2.10)\n",
            "Requirement already satisfied: urllib3!=1.25.0,!=1.25.1,<1.26,>=1.21.1 in /usr/local/lib/python3.8/dist-packages (from requests->vaderSentiment) (1.24.3)\n"
          ]
        }
      ],
      "source": [
        "\n",
        "pip install vaderSentiment "
      ]
    },
    {
      "cell_type": "code",
      "execution_count": 33,
      "metadata": {
        "id": "ip16JTGE7ut4"
      },
      "outputs": [],
      "source": [
        "import pandas as pd\n",
        "import re\n",
        "import matplotlib.pyplot as plt"
      ]
    },
    {
      "cell_type": "code",
      "execution_count": 34,
      "metadata": {
        "id": "tQsuNmf8oibb"
      },
      "outputs": [],
      "source": [
        "from pyspark.sql import SparkSession\n",
        "from pyspark import SparkContext\n",
        "\n",
        "from pyspark.sql.functions import regexp_replace,year\n",
        "from pyspark.sql.functions import col,count,when\n",
        "from pyspark.sql import functions as F\n",
        "#from pyspark.sql.functions import format_number as fmt\n",
        "from pyspark.sql.functions import udf, split\n",
        "from pyspark.sql.types import StringType, FloatType, IntegerType,BooleanType,ArrayType,DoubleType\n",
        "\n",
        "from pyspark.ml.feature import Tokenizer,StopWordsRemover\n",
        "#from pyspark.ml import PipelineModel\n",
        "#from pyspark.ml.evaluation import BinaryClassificationEvaluator\n",
        "from pyspark.sql.functions import to_date\n",
        "import re\n",
        "\n",
        "from vaderSentiment.vaderSentiment import SentimentIntensityAnalyzer\n",
        "\n",
        "from pyspark.sql.window import Window\n",
        "\n",
        "from pyspark.sql.functions import monotonically_increasing_id,row_number\n",
        "sc =SparkContext.getOrCreate()"
      ]
    },
    {
      "cell_type": "code",
      "execution_count": 35,
      "metadata": {
        "id": "hj6cLKxao8ib"
      },
      "outputs": [],
      "source": [
        "spark = SparkSession(sc)\n"
      ]
    },
    {
      "cell_type": "markdown",
      "source": [
        "Reading files"
      ],
      "metadata": {
        "id": "zouJpvPmkRAw"
      }
    },
    {
      "cell_type": "code",
      "source": [
        "folder_path=\"/content/drive/MyDrive/coding_stocks/\""
      ],
      "metadata": {
        "id": "6A2fI8NtjldJ"
      },
      "execution_count": 36,
      "outputs": []
    },
    {
      "cell_type": "code",
      "source": [
        "df1=spark.read.option(\"multiline\", True).csv(folder_path+\"Company_Tweet.csv\",header=True)\n",
        "df2=spark.read.option(\"multiline\", True).csv(folder_path+\"Company.csv\",header=True)\n",
        "df3=spark.read.option(\"multiline\", True).csv(folder_path+\"CompanyValues.csv\",header=True)\n",
        "df4=spark.read.option(\"multiline\", True).csv(folder_path+\"tweets.csv\",header=True)"
      ],
      "metadata": {
        "id": "vOr_IOH8jwdC"
      },
      "execution_count": 37,
      "outputs": []
    },
    {
      "cell_type": "code",
      "source": [
        "# ### tweet id and corresponding ticker name\n",
        "\n",
        "# df1.show(3)\n",
        "# ### ticker symbol and company name\n",
        "\n",
        "# df2.show(3)\n",
        "# ## stock proce data for a comapny\n",
        "\n",
        "# df3.show(3)\n",
        "# ### information about tweets\n",
        "\n",
        "# df4.show(3)"
      ],
      "metadata": {
        "id": "2CWsnMYmkBeN"
      },
      "execution_count": null,
      "outputs": []
    },
    {
      "cell_type": "markdown",
      "source": [
        "Data cleaning"
      ],
      "metadata": {
        "id": "RFfe-v8QkkFU"
      }
    },
    {
      "cell_type": "code",
      "source": [
        "# df2.show()"
      ],
      "metadata": {
        "colab": {
          "base_uri": "https://localhost:8080/"
        },
        "id": "0xBvqXVxGyPx",
        "outputId": "660d2a42-3d78-4f85-a2fe-2f451a64a50a"
      },
      "execution_count": 103,
      "outputs": [
        {
          "output_type": "stream",
          "name": "stdout",
          "text": [
            "+-------------+------------+\n",
            "|ticker_symbol|company_name|\n",
            "+-------------+------------+\n",
            "|         AAPL|       apple|\n",
            "|         GOOG|  Google Inc|\n",
            "|        GOOGL|  Google Inc|\n",
            "|         AMZN|  Amazon.com|\n",
            "|         TSLA|   Tesla Inc|\n",
            "|         MSFT|   Microsoft|\n",
            "+-------------+------------+\n",
            "\n"
          ]
        }
      ]
    },
    {
      "cell_type": "markdown",
      "source": [
        "One problem is Googe Inc has two ticker_symbol, so we replace GOOG with GOOGL wherever required"
      ],
      "metadata": {
        "id": "JRrMX0AcG5yb"
      }
    },
    {
      "cell_type": "code",
      "source": [
        "# df1.printSchema()\n",
        "# df2.printSchema()\n",
        "# df3.printSchema()\n",
        "# df4.printSchema()"
      ],
      "metadata": {
        "colab": {
          "base_uri": "https://localhost:8080/"
        },
        "id": "1T3ro-VgkjCC",
        "outputId": "2ae175db-51d7-45e9-d2b5-f05c0eb98daf"
      },
      "execution_count": 104,
      "outputs": [
        {
          "output_type": "stream",
          "name": "stdout",
          "text": [
            "root\n",
            " |-- tweet_id: string (nullable = true)\n",
            " |-- ticker_symbol: string (nullable = true)\n",
            "\n",
            "root\n",
            " |-- ticker_symbol: string (nullable = true)\n",
            " |-- company_name: string (nullable = true)\n",
            "\n",
            "root\n",
            " |-- ticker_symbol: string (nullable = true)\n",
            " |-- day_date: string (nullable = true)\n",
            " |-- close_value: string (nullable = true)\n",
            " |-- volume: string (nullable = true)\n",
            " |-- open_value: string (nullable = true)\n",
            " |-- high_value: string (nullable = true)\n",
            " |-- low_value: string (nullable = true)\n",
            "\n",
            "root\n",
            " |-- _c0: string (nullable = true)\n",
            " |-- tweet_id: string (nullable = true)\n",
            " |-- writer: string (nullable = true)\n",
            " |-- post_date: string (nullable = true)\n",
            " |-- body: string (nullable = true)\n",
            " |-- comment_num: string (nullable = true)\n",
            " |-- retweet_num: string (nullable = true)\n",
            " |-- like_num: string (nullable = true)\n",
            " |-- date: string (nullable = true)\n",
            "\n"
          ]
        }
      ]
    },
    {
      "cell_type": "markdown",
      "source": [
        "ticker_symbol is present in df1, df2, df3\n"
      ],
      "metadata": {
        "id": "bTuodaPeHKPi"
      }
    },
    {
      "cell_type": "code",
      "source": [
        "\n",
        "df1=df1.withColumn('ticker_symbol', regexp_replace('ticker_symbol', 'GOOG$', 'GOOGL'))\n",
        "df2=df2.withColumn('ticker_symbol', regexp_replace('ticker_symbol', 'GOOG$', 'GOOGL'))\n",
        "df3=df3.withColumn('ticker_symbol', regexp_replace('ticker_symbol', 'GOOG$', 'GOOGL'))"
      ],
      "metadata": {
        "id": "KZad40hwHJaH"
      },
      "execution_count": 38,
      "outputs": []
    },
    {
      "cell_type": "code",
      "source": [
        "cols=(\"_c0\",\"post_date\")\n",
        "df4=df4.drop(*cols)\n",
        "df4.printSchema()"
      ],
      "metadata": {
        "colab": {
          "base_uri": "https://localhost:8080/"
        },
        "id": "7-BolGXvCgNb",
        "outputId": "f49a9489-e9e9-4c7f-f371-8ec083ea1e25"
      },
      "execution_count": 39,
      "outputs": [
        {
          "output_type": "stream",
          "name": "stdout",
          "text": [
            "root\n",
            " |-- tweet_id: string (nullable = true)\n",
            " |-- writer: string (nullable = true)\n",
            " |-- body: string (nullable = true)\n",
            " |-- comment_num: string (nullable = true)\n",
            " |-- retweet_num: string (nullable = true)\n",
            " |-- like_num: string (nullable = true)\n",
            " |-- date: string (nullable = true)\n",
            "\n"
          ]
        }
      ]
    },
    {
      "cell_type": "markdown",
      "source": [
        "convert into appropriate data types"
      ],
      "metadata": {
        "id": "1l3esI3jlczO"
      }
    },
    {
      "cell_type": "code",
      "source": [
        "df1=df1.withColumn(\"tweet_id\",col(\"tweet_id\").cast(DoubleType()))\n",
        "\n",
        "df3=df3.withColumn(\"day_date\",to_date(col(\"day_date\")))\n",
        "for c in df3.columns[2:]:\n",
        "  df3=df3.withColumn(c,col(c).cast(FloatType()))\n",
        "\n",
        "df4=df4.withColumn(\"date\",to_date(col(\"date\")))\n",
        "df4=df4.withColumn(\"tweet_id\",col(\"tweet_id\").cast(DoubleType()))\n",
        "for c in [\"comment_num\",\"like_num\",\"retweet_num\"]:\n",
        "  df4=df4.withColumn(c,col(c).cast(IntegerType()))"
      ],
      "metadata": {
        "id": "nHTOr-Hulcg8"
      },
      "execution_count": 40,
      "outputs": []
    },
    {
      "cell_type": "code",
      "source": [
        "# df1.show(4)"
      ],
      "metadata": {
        "id": "Utrj_5NcwK2d"
      },
      "execution_count": 41,
      "outputs": []
    },
    {
      "cell_type": "markdown",
      "source": [
        "Checking for null values"
      ],
      "metadata": {
        "id": "21Nlbrs7m1tV"
      }
    },
    {
      "cell_type": "code",
      "source": [
        "# df1.select([count(when(col(c).isNull(), c)).alias(c) for c in df1.columns]).show()"
      ],
      "metadata": {
        "id": "hybbnfLzmbTN"
      },
      "execution_count": 42,
      "outputs": []
    },
    {
      "cell_type": "code",
      "source": [
        "# df2.select([count(when(col(c).isNull(), c)).alias(c) for c in df2.columns]).show()\n",
        "# df3.select([count(when(col(c).isNull(), c)).alias(c) for c in df3.columns]).show()\n",
        "# df4.select([count(when(col(c).isNull(), c)).alias(c) for c in df4.columns]).show()"
      ],
      "metadata": {
        "id": "SiGR01X3nJvM"
      },
      "execution_count": 43,
      "outputs": []
    },
    {
      "cell_type": "code",
      "source": [
        "df4=df4.na.drop(subset=[\"tweet_id\",\"body\",\"date\"])\n",
        "df4.show(2)\n",
        "#df4.select([count(when(col(c).isNull(), c)).alias(c) for c in df4.columns]).show()"
      ],
      "metadata": {
        "colab": {
          "base_uri": "https://localhost:8080/"
        },
        "id": "eKUTGRrQnyok",
        "outputId": "2f99d459-16ac-47eb-ea99-24fec53b2338"
      },
      "execution_count": 44,
      "outputs": [
        {
          "output_type": "stream",
          "name": "stdout",
          "text": [
            "+--------------------+---------------+--------------------+-----------+-----------+--------+----------+\n",
            "|            tweet_id|         writer|                body|comment_num|retweet_num|like_num|      date|\n",
            "+--------------------+---------------+--------------------+-----------+-----------+--------+----------+\n",
            "|5.504415091754434...|VisualStockRSRC|lx21 made $10,008...|          0|          0|       1|2015-01-01|\n",
            "|5.504416723125125...|    KeralaGuy77|Insanity of today...|          0|          0|       0|2015-01-01|\n",
            "+--------------------+---------------+--------------------+-----------+-----------+--------+----------+\n",
            "only showing top 2 rows\n",
            "\n"
          ]
        }
      ]
    },
    {
      "cell_type": "code",
      "source": [
        "#**text cleaning**\n",
        "\n",
        "\n",
        "def cleantext(tweet):\n",
        "    '''\n",
        "    cleantext takes input a tweet and clean it of special characters, \n",
        "    hashtags, handles, and multiple spaces\n",
        "    '''\n",
        "    ## removing url\n",
        "    url=r\"https?:\\/\\/\\S+\"\n",
        "    tweet=re.sub(\"[()]\",\" \",tweet)\n",
        "    r1=re.findall(url,tweet)\n",
        " \n",
        "    for i in r1:\n",
        "        tweet=re.sub(i,'', tweet)\n",
        "\n",
        "    ## removing all the hashtags\n",
        "    hashtag=r\"#[a-zA-Z0-9]+\"\n",
        "    r2=re.findall(hashtag,tweet)\n",
        "    print(r2)\n",
        "    for i in r2:\n",
        "      tweet=re.sub(i,\" \", tweet)  \n",
        "\n",
        "    ## removing handles  \n",
        "    handle=\"@[a-zA-Z]+\"\n",
        "    r3=re.findall(handle, tweet)\n",
        "    print(r3)\n",
        "    for i in r3:\n",
        "        tweet=re.sub(i,' ',tweet)\n",
        "\n",
        "    ## removing special words expcept !    \n",
        "    tweet=re.sub(r\"[^a-zA-Z!]\",\" \",tweet)   \n",
        "    tweet+=\" \"\n",
        "\n",
        "    tweet=re.sub(r\" +\", \" \",tweet)\n",
        "    return tweet\n",
        "\n",
        "\n",
        "udfrp=udf(cleantext,StringType())"
      ],
      "metadata": {
        "id": "mxs36juWE4kn"
      },
      "execution_count": 45,
      "outputs": []
    },
    {
      "cell_type": "code",
      "source": [
        "dftweet=df4.withColumn('body_cleaned',udfrp('body'))"
      ],
      "metadata": {
        "id": "4nc1BZKgoIL-"
      },
      "execution_count": 46,
      "outputs": []
    },
    {
      "cell_type": "code",
      "execution_count": 47,
      "metadata": {
        "id": "V7358JFHpxQh"
      },
      "outputs": [],
      "source": [
        "\n",
        "#### Tokenization and stop word removal###\n",
        "tokenizer = Tokenizer(inputCol='body_cleaned', outputCol='tokens')\n",
        "stopwords=StopWordsRemover(inputCol='tokens', outputCol='tokens_cleaned')\n",
        "\n",
        "dftweet = tokenizer.transform(dftweet)\n",
        "dftweet= stopwords.transform(dftweet)\n",
        "\n",
        "def jointext(words):\n",
        "    return ' '.join(words)\n",
        "\n",
        "udfjoin=udf(jointext,StringType())\n",
        "dftweet=dftweet.withColumn('reduced_text',udfjoin(\"tokens_cleaned\"))\n",
        "\n"
      ]
    },
    {
      "cell_type": "code",
      "execution_count": 47,
      "metadata": {
        "id": "UCJkoaH6kwkO"
      },
      "outputs": [],
      "source": []
    },
    {
      "cell_type": "markdown",
      "metadata": {
        "id": "ztNkk0O7kxc2"
      },
      "source": [
        "**Calculating Results for sentiment analysis using VADER**"
      ]
    },
    {
      "cell_type": "code",
      "execution_count": 49,
      "metadata": {
        "id": "qdczkV1sp6Pj"
      },
      "outputs": [],
      "source": [
        "\n",
        "def vdscore(tweet):\n",
        "  '''\n",
        "  returns compound score\n",
        "  '''\n",
        "\n",
        "  sia = SentimentIntensityAnalyzer()\n",
        "  scores = sia.polarity_scores(tweet)\n",
        "  return (float(scores[\"compound\"]))\n",
        "def vdscoreneg(tweet):\n",
        "    '''\n",
        "  returns negative score\n",
        "  '''\n",
        "    sia = SentimentIntensityAnalyzer()\n",
        "    scores = sia.polarity_scores(tweet)\n",
        "    return (float(scores[\"neg\"]))\n",
        "def vdscorepos(tweet):\n",
        "    '''\n",
        "  returns positive score\n",
        "  '''\n",
        "    sia = SentimentIntensityAnalyzer()\n",
        "    scores = sia.polarity_scores(tweet)\n",
        "    return (float(scores[\"pos\"]))\n",
        "def vdscoreneu(tweet):\n",
        "    '''\n",
        "  returns neutral score\n",
        "  '''\n",
        "    sia = SentimentIntensityAnalyzer()\n",
        "    scores = sia.polarity_scores(tweet)\n",
        "    return (float(scores[\"neu\"]))\n",
        "\n"
      ]
    },
    {
      "cell_type": "code",
      "execution_count": 50,
      "metadata": {
        "id": "S5qSQC9hp9UG"
      },
      "outputs": [],
      "source": [
        "udfvs = udf(vdscore,FloatType())\n",
        "udfvsneg = udf(vdscoreneg,FloatType())\n",
        "udfvsneu = udf(vdscoreneu,FloatType())\n",
        "udfvspos = udf(vdscorepos,FloatType())\n",
        "\n",
        "### Adding results to the dataframe\n",
        "dftweet=dftweet.withColumn(\"scores\", udfvs(\"reduced_text\"))\n",
        "dftweet=dftweet.withColumn(\"neg\",udfvsneg(\"reduced_text\"))\n",
        "dftweet=dftweet.withColumn(\"pos\",udfvspos(\"reduced_text\"))\n",
        "dftweet=dftweet.withColumn(\"neu\",udfvsneu(\"reduced_text\"))\n",
        "\n"
      ]
    },
    {
      "cell_type": "code",
      "source": [
        "df=dftweet.select(\"tweet_id\",\"date\",\"scores\",\"neg\",\"pos\",\"neu\")\n",
        "#df.show(4)"
      ],
      "metadata": {
        "id": "tiWbZG-DqQyi"
      },
      "execution_count": 53,
      "outputs": []
    },
    {
      "cell_type": "markdown",
      "source": [
        "EDA"
      ],
      "metadata": {
        "id": "OJV0Am8PE_aK"
      }
    },
    {
      "cell_type": "code",
      "source": [
        "df.head()"
      ],
      "metadata": {
        "colab": {
          "base_uri": "https://localhost:8080/"
        },
        "id": "1N7D52k0ghVz",
        "outputId": "4d6c06a9-7062-472a-eb2f-731ab9cf9fdf"
      },
      "execution_count": 55,
      "outputs": [
        {
          "output_type": "execute_result",
          "data": {
            "text/plain": [
              "Row(tweet_id=5.5044150917544346e+17, date=datetime.date(2015, 1, 1), scores=0.7777000069618225, neg=0.0, pos=0.3269999921321869, neu=0.6729999780654907)"
            ]
          },
          "metadata": {},
          "execution_count": 55
        }
      ]
    },
    {
      "cell_type": "code",
      "source": [
        "df.printSchema()"
      ],
      "metadata": {
        "colab": {
          "base_uri": "https://localhost:8080/"
        },
        "id": "HmRQw0prFB8J",
        "outputId": "6c192d18-ffd4-4a2d-bd20-5cf4d66a8acf"
      },
      "execution_count": 54,
      "outputs": [
        {
          "output_type": "stream",
          "name": "stdout",
          "text": [
            "root\n",
            " |-- tweet_id: double (nullable = true)\n",
            " |-- date: date (nullable = true)\n",
            " |-- scores: float (nullable = true)\n",
            " |-- neg: float (nullable = true)\n",
            " |-- pos: float (nullable = true)\n",
            " |-- neu: float (nullable = true)\n",
            "\n"
          ]
        }
      ]
    },
    {
      "cell_type": "code",
      "source": [
        "dftweet=df1.join(df, on=\"tweet_id\",how=\"right\")"
      ],
      "metadata": {
        "id": "Y7PcRGY6e-gt"
      },
      "execution_count": 57,
      "outputs": []
    },
    {
      "cell_type": "code",
      "source": [
        "dftweet.show(3)"
      ],
      "metadata": {
        "colab": {
          "base_uri": "https://localhost:8080/"
        },
        "id": "VRZqf5szhVYQ",
        "outputId": "0302a4ad-71a0-4514-902e-a9c0b83b2f16"
      },
      "execution_count": 58,
      "outputs": [
        {
          "output_type": "stream",
          "name": "stdout",
          "text": [
            "+--------------------+-------------+----------+-------+-----+-----+-----+\n",
            "|            tweet_id|ticker_symbol|      date| scores|  neg|  pos|  neu|\n",
            "+--------------------+-------------+----------+-------+-----+-----+-----+\n",
            "|5.504416723125125...|         AAPL|2015-01-01|-0.8271|0.442|  0.0|0.558|\n",
            "|5.504429778022072...|         TSLA|2015-01-01|    0.0|  0.0|  0.0|  1.0|\n",
            "|5.504415091754434...|         AAPL|2015-01-01| 0.7777|  0.0|0.327|0.673|\n",
            "+--------------------+-------------+----------+-------+-----+-----+-----+\n",
            "only showing top 3 rows\n",
            "\n"
          ]
        }
      ]
    },
    {
      "cell_type": "code",
      "source": [
        "# tweetcount=dftweet.groupby('ticker_symbol').count().select('ticker_symbol','count').rdd.map(\n",
        "#   lambda x: (x[0],x[1])).collect()\n",
        "# print(tweetcount)\n",
        "# keys=[i[0] for i in tweetcount]\n",
        "# values=[i[1] for i in tweetcount]\n",
        "# plt.bar(keys,values)\n",
        "# plt.show()\n",
        "# fig1, ax1 = plt.subplots()\n",
        "# ax1.pie(values,  labels=keys, autopct='%1.1f%%',\n",
        "#         shadow=True, startangle=90)\n",
        "# ax1.axis('equal')  # Equal aspect ratio ensures that pie is drawn as a circle.\n",
        "\n",
        "# plt.show()"
      ],
      "metadata": {
        "colab": {
          "base_uri": "https://localhost:8080/",
          "height": 508
        },
        "id": "FVu1iUu-iHfE",
        "outputId": "a69683d6-951b-4b98-84c8-c553b86c7396"
      },
      "execution_count": 59,
      "outputs": [
        {
          "output_type": "display_data",
          "data": {
            "text/plain": [
              "<Figure size 432x288 with 1 Axes>"
            ],
            "image/png": "[encoded data removed]"
          },
          "metadata": {
            "needs_background": "light"
          }
        },
        {
          "output_type": "display_data",
          "data": {
            "text/plain": [
              "<Figure size 432x288 with 1 Axes>"
            ],
            "image/png": "[encoded data removed]"
          },
          "metadata": {}
        }
      ]
    },
    {
      "cell_type": "code",
      "source": [
        "tweet_results=dftweet.toPandas()"
      ],
      "metadata": {
        "colab": {
          "base_uri": "https://localhost:8080/",
          "height": 468
        },
        "id": "n58R24lzjx1u",
        "outputId": "f4ca7593-0304-45d9-acc9-bebc6615f5cf"
      },
      "execution_count": 67,
      "outputs": [
        {
          "output_type": "stream",
          "name": "stderr",
          "text": [
            "ERROR:root:KeyboardInterrupt while sending command.\n",
            "Traceback (most recent call last):\n",
            "  File \"/usr/local/lib/python3.8/dist-packages/py4j/java_gateway.py\", line 1038, in send_command\n",
            "    response = connection.send_command(command)\n",
            "  File \"/usr/local/lib/python3.8/dist-packages/py4j/clientserver.py\", line 511, in send_command\n",
            "    answer = smart_decode(self.stream.readline()[:-1])\n",
            "  File \"/usr/lib/python3.8/socket.py\", line 669, in readinto\n",
            "    return self._sock.recv_into(b)\n",
            "KeyboardInterrupt\n"
          ]
        },
        {
          "output_type": "error",
          "ename": "KeyboardInterrupt",
          "evalue": "ignored",
          "traceback": [
            "\u001b[0;31m---------------------------------------------------------------------------\u001b[0m",
            "\u001b[0;31mKeyboardInterrupt\u001b[0m                         Traceback (most recent call last)",
            "\u001b[0;32m<ipython-input-67-50de96011b7a>\u001b[0m in \u001b[0;36m<module>\u001b[0;34m\u001b[0m\n\u001b[0;32m----> 1\u001b[0;31m \u001b[0mtweet_results\u001b[0m\u001b[0;34m=\u001b[0m\u001b[0mdftweet\u001b[0m\u001b[0;34m.\u001b[0m\u001b[0mtoPandas\u001b[0m\u001b[0;34m(\u001b[0m\u001b[0;34m)\u001b[0m\u001b[0;34m\u001b[0m\u001b[0;34m\u001b[0m\u001b[0m\n\u001b[0m",
            "\u001b[0;32m/usr/local/lib/python3.8/dist-packages/pyspark/sql/pandas/conversion.py\u001b[0m in \u001b[0;36mtoPandas\u001b[0;34m(self)\u001b[0m\n\u001b[1;32m    203\u001b[0m \u001b[0;34m\u001b[0m\u001b[0m\n\u001b[1;32m    204\u001b[0m         \u001b[0;31m# Below is toPandas without Arrow optimization.\u001b[0m\u001b[0;34m\u001b[0m\u001b[0;34m\u001b[0m\u001b[0;34m\u001b[0m\u001b[0m\n\u001b[0;32m--> 205\u001b[0;31m         \u001b[0mpdf\u001b[0m \u001b[0;34m=\u001b[0m \u001b[0mpd\u001b[0m\u001b[0;34m.\u001b[0m\u001b[0mDataFrame\u001b[0m\u001b[0;34m.\u001b[0m\u001b[0mfrom_records\u001b[0m\u001b[0;34m(\u001b[0m\u001b[0mself\u001b[0m\u001b[0;34m.\u001b[0m\u001b[0mcollect\u001b[0m\u001b[0;34m(\u001b[0m\u001b[0;34m)\u001b[0m\u001b[0;34m,\u001b[0m \u001b[0mcolumns\u001b[0m\u001b[0;34m=\u001b[0m\u001b[0mself\u001b[0m\u001b[0;34m.\u001b[0m\u001b[0mcolumns\u001b[0m\u001b[0;34m)\u001b[0m\u001b[0;34m\u001b[0m\u001b[0;34m\u001b[0m\u001b[0m\n\u001b[0m\u001b[1;32m    206\u001b[0m         \u001b[0mcolumn_counter\u001b[0m \u001b[0;34m=\u001b[0m \u001b[0mCounter\u001b[0m\u001b[0;34m(\u001b[0m\u001b[0mself\u001b[0m\u001b[0;34m.\u001b[0m\u001b[0mcolumns\u001b[0m\u001b[0;34m)\u001b[0m\u001b[0;34m\u001b[0m\u001b[0;34m\u001b[0m\u001b[0m\n\u001b[1;32m    207\u001b[0m \u001b[0;34m\u001b[0m\u001b[0m\n",
            "\u001b[0;32m/usr/local/lib/python3.8/dist-packages/pyspark/sql/dataframe.py\u001b[0m in \u001b[0;36mcollect\u001b[0;34m(self)\u001b[0m\n\u001b[1;32m    815\u001b[0m         \"\"\"\n\u001b[1;32m    816\u001b[0m         \u001b[0;32mwith\u001b[0m \u001b[0mSCCallSiteSync\u001b[0m\u001b[0;34m(\u001b[0m\u001b[0mself\u001b[0m\u001b[0;34m.\u001b[0m\u001b[0m_sc\u001b[0m\u001b[0;34m)\u001b[0m\u001b[0;34m:\u001b[0m\u001b[0;34m\u001b[0m\u001b[0;34m\u001b[0m\u001b[0m\n\u001b[0;32m--> 817\u001b[0;31m             \u001b[0msock_info\u001b[0m \u001b[0;34m=\u001b[0m \u001b[0mself\u001b[0m\u001b[0;34m.\u001b[0m\u001b[0m_jdf\u001b[0m\u001b[0;34m.\u001b[0m\u001b[0mcollectToPython\u001b[0m\u001b[0;34m(\u001b[0m\u001b[0;34m)\u001b[0m\u001b[0;34m\u001b[0m\u001b[0;34m\u001b[0m\u001b[0m\n\u001b[0m\u001b[1;32m    818\u001b[0m         \u001b[0;32mreturn\u001b[0m \u001b[0mlist\u001b[0m\u001b[0;34m(\u001b[0m\u001b[0m_load_from_socket\u001b[0m\u001b[0;34m(\u001b[0m\u001b[0msock_info\u001b[0m\u001b[0;34m,\u001b[0m \u001b[0mBatchedSerializer\u001b[0m\u001b[0;34m(\u001b[0m\u001b[0mCPickleSerializer\u001b[0m\u001b[0;34m(\u001b[0m\u001b[0;34m)\u001b[0m\u001b[0;34m)\u001b[0m\u001b[0;34m)\u001b[0m\u001b[0;34m)\u001b[0m\u001b[0;34m\u001b[0m\u001b[0;34m\u001b[0m\u001b[0m\n\u001b[1;32m    819\u001b[0m \u001b[0;34m\u001b[0m\u001b[0m\n",
            "\u001b[0;32m/usr/local/lib/python3.8/dist-packages/py4j/java_gateway.py\u001b[0m in \u001b[0;36m__call__\u001b[0;34m(self, *args)\u001b[0m\n\u001b[1;32m   1318\u001b[0m             \u001b[0mproto\u001b[0m\u001b[0;34m.\u001b[0m\u001b[0mEND_COMMAND_PART\u001b[0m\u001b[0;34m\u001b[0m\u001b[0;34m\u001b[0m\u001b[0m\n\u001b[1;32m   1319\u001b[0m \u001b[0;34m\u001b[0m\u001b[0m\n\u001b[0;32m-> 1320\u001b[0;31m         \u001b[0manswer\u001b[0m \u001b[0;34m=\u001b[0m \u001b[0mself\u001b[0m\u001b[0;34m.\u001b[0m\u001b[0mgateway_client\u001b[0m\u001b[0;34m.\u001b[0m\u001b[0msend_command\u001b[0m\u001b[0;34m(\u001b[0m\u001b[0mcommand\u001b[0m\u001b[0;34m)\u001b[0m\u001b[0;34m\u001b[0m\u001b[0;34m\u001b[0m\u001b[0m\n\u001b[0m\u001b[1;32m   1321\u001b[0m         return_value = get_return_value(\n\u001b[1;32m   1322\u001b[0m             answer, self.gateway_client, self.target_id, self.name)\n",
            "\u001b[0;32m/usr/local/lib/python3.8/dist-packages/py4j/java_gateway.py\u001b[0m in \u001b[0;36msend_command\u001b[0;34m(self, command, retry, binary)\u001b[0m\n\u001b[1;32m   1036\u001b[0m         \u001b[0mconnection\u001b[0m \u001b[0;34m=\u001b[0m \u001b[0mself\u001b[0m\u001b[0;34m.\u001b[0m\u001b[0m_get_connection\u001b[0m\u001b[0;34m(\u001b[0m\u001b[0;34m)\u001b[0m\u001b[0;34m\u001b[0m\u001b[0;34m\u001b[0m\u001b[0m\n\u001b[1;32m   1037\u001b[0m         \u001b[0;32mtry\u001b[0m\u001b[0;34m:\u001b[0m\u001b[0;34m\u001b[0m\u001b[0;34m\u001b[0m\u001b[0m\n\u001b[0;32m-> 1038\u001b[0;31m             \u001b[0mresponse\u001b[0m \u001b[0;34m=\u001b[0m \u001b[0mconnection\u001b[0m\u001b[0;34m.\u001b[0m\u001b[0msend_command\u001b[0m\u001b[0;34m(\u001b[0m\u001b[0mcommand\u001b[0m\u001b[0;34m)\u001b[0m\u001b[0;34m\u001b[0m\u001b[0;34m\u001b[0m\u001b[0m\n\u001b[0m\u001b[1;32m   1039\u001b[0m             \u001b[0;32mif\u001b[0m \u001b[0mbinary\u001b[0m\u001b[0;34m:\u001b[0m\u001b[0;34m\u001b[0m\u001b[0;34m\u001b[0m\u001b[0m\n\u001b[1;32m   1040\u001b[0m                 \u001b[0;32mreturn\u001b[0m \u001b[0mresponse\u001b[0m\u001b[0;34m,\u001b[0m \u001b[0mself\u001b[0m\u001b[0;34m.\u001b[0m\u001b[0m_create_connection_guard\u001b[0m\u001b[0;34m(\u001b[0m\u001b[0mconnection\u001b[0m\u001b[0;34m)\u001b[0m\u001b[0;34m\u001b[0m\u001b[0;34m\u001b[0m\u001b[0m\n",
            "\u001b[0;32m/usr/local/lib/python3.8/dist-packages/py4j/clientserver.py\u001b[0m in \u001b[0;36msend_command\u001b[0;34m(self, command)\u001b[0m\n\u001b[1;32m    509\u001b[0m         \u001b[0;32mtry\u001b[0m\u001b[0;34m:\u001b[0m\u001b[0;34m\u001b[0m\u001b[0;34m\u001b[0m\u001b[0m\n\u001b[1;32m    510\u001b[0m             \u001b[0;32mwhile\u001b[0m \u001b[0;32mTrue\u001b[0m\u001b[0;34m:\u001b[0m\u001b[0;34m\u001b[0m\u001b[0;34m\u001b[0m\u001b[0m\n\u001b[0;32m--> 511\u001b[0;31m                 \u001b[0manswer\u001b[0m \u001b[0;34m=\u001b[0m \u001b[0msmart_decode\u001b[0m\u001b[0;34m(\u001b[0m\u001b[0mself\u001b[0m\u001b[0;34m.\u001b[0m\u001b[0mstream\u001b[0m\u001b[0;34m.\u001b[0m\u001b[0mreadline\u001b[0m\u001b[0;34m(\u001b[0m\u001b[0;34m)\u001b[0m\u001b[0;34m[\u001b[0m\u001b[0;34m:\u001b[0m\u001b[0;34m-\u001b[0m\u001b[0;36m1\u001b[0m\u001b[0;34m]\u001b[0m\u001b[0;34m)\u001b[0m\u001b[0;34m\u001b[0m\u001b[0;34m\u001b[0m\u001b[0m\n\u001b[0m\u001b[1;32m    512\u001b[0m                 \u001b[0mlogger\u001b[0m\u001b[0;34m.\u001b[0m\u001b[0mdebug\u001b[0m\u001b[0;34m(\u001b[0m\u001b[0;34m\"Answer received: {0}\"\u001b[0m\u001b[0;34m.\u001b[0m\u001b[0mformat\u001b[0m\u001b[0;34m(\u001b[0m\u001b[0manswer\u001b[0m\u001b[0;34m)\u001b[0m\u001b[0;34m)\u001b[0m\u001b[0;34m\u001b[0m\u001b[0;34m\u001b[0m\u001b[0m\n\u001b[1;32m    513\u001b[0m                 \u001b[0;31m# Happens when a the other end is dead. There might be an empty\u001b[0m\u001b[0;34m\u001b[0m\u001b[0;34m\u001b[0m\u001b[0;34m\u001b[0m\u001b[0m\n",
            "\u001b[0;32m/usr/lib/python3.8/socket.py\u001b[0m in \u001b[0;36mreadinto\u001b[0;34m(self, b)\u001b[0m\n\u001b[1;32m    667\u001b[0m         \u001b[0;32mwhile\u001b[0m \u001b[0;32mTrue\u001b[0m\u001b[0;34m:\u001b[0m\u001b[0;34m\u001b[0m\u001b[0;34m\u001b[0m\u001b[0m\n\u001b[1;32m    668\u001b[0m             \u001b[0;32mtry\u001b[0m\u001b[0;34m:\u001b[0m\u001b[0;34m\u001b[0m\u001b[0;34m\u001b[0m\u001b[0m\n\u001b[0;32m--> 669\u001b[0;31m                 \u001b[0;32mreturn\u001b[0m \u001b[0mself\u001b[0m\u001b[0;34m.\u001b[0m\u001b[0m_sock\u001b[0m\u001b[0;34m.\u001b[0m\u001b[0mrecv_into\u001b[0m\u001b[0;34m(\u001b[0m\u001b[0mb\u001b[0m\u001b[0;34m)\u001b[0m\u001b[0;34m\u001b[0m\u001b[0;34m\u001b[0m\u001b[0m\n\u001b[0m\u001b[1;32m    670\u001b[0m             \u001b[0;32mexcept\u001b[0m \u001b[0mtimeout\u001b[0m\u001b[0;34m:\u001b[0m\u001b[0;34m\u001b[0m\u001b[0;34m\u001b[0m\u001b[0m\n\u001b[1;32m    671\u001b[0m                 \u001b[0mself\u001b[0m\u001b[0;34m.\u001b[0m\u001b[0m_timeout_occurred\u001b[0m \u001b[0;34m=\u001b[0m \u001b[0;32mTrue\u001b[0m\u001b[0;34m\u001b[0m\u001b[0;34m\u001b[0m\u001b[0m\n",
            "\u001b[0;31mKeyboardInterrupt\u001b[0m: "
          ]
        }
      ]
    },
    {
      "cell_type": "code",
      "source": [
        "tweet_results"
      ],
      "metadata": {
        "id": "xjtNmSGAj4nX"
      },
      "execution_count": null,
      "outputs": []
    },
    {
      "cell_type": "code",
      "source": [
        "average=dftweet.groupBy(\"ticker_symbol\",\"date\").agg(avg(\"scores\"))"
      ],
      "metadata": {
        "id": "F_nOtqhDiyQR"
      },
      "execution_count": 66,
      "outputs": []
    },
    {
      "cell_type": "code",
      "source": [
        "from pyspark.sql.functions import sum,avg,max"
      ],
      "metadata": {
        "id": "jonnrUTsjUYc"
      },
      "execution_count": 61,
      "outputs": []
    },
    {
      "cell_type": "code",
      "source": [
        "average.show(4)"
      ],
      "metadata": {
        "colab": {
          "base_uri": "https://localhost:8080/",
          "height": 468
        },
        "id": "LYEttczqjV9s",
        "outputId": "01ac6c05-8ad4-4e30-9afb-c2d320ea257d"
      },
      "execution_count": 65,
      "outputs": [
        {
          "output_type": "stream",
          "name": "stderr",
          "text": [
            "ERROR:root:KeyboardInterrupt while sending command.\n",
            "Traceback (most recent call last):\n",
            "  File \"/usr/local/lib/python3.8/dist-packages/py4j/java_gateway.py\", line 1038, in send_command\n",
            "    response = connection.send_command(command)\n",
            "  File \"/usr/local/lib/python3.8/dist-packages/py4j/clientserver.py\", line 511, in send_command\n",
            "    answer = smart_decode(self.stream.readline()[:-1])\n",
            "  File \"/usr/lib/python3.8/socket.py\", line 669, in readinto\n",
            "    return self._sock.recv_into(b)\n",
            "KeyboardInterrupt\n"
          ]
        },
        {
          "output_type": "error",
          "ename": "KeyboardInterrupt",
          "evalue": "ignored",
          "traceback": [
            "\u001b[0;31m---------------------------------------------------------------------------\u001b[0m",
            "\u001b[0;31mKeyboardInterrupt\u001b[0m                         Traceback (most recent call last)",
            "\u001b[0;32m<ipython-input-65-9164e93833a2>\u001b[0m in \u001b[0;36m<module>\u001b[0;34m\u001b[0m\n\u001b[0;32m----> 1\u001b[0;31m \u001b[0maverage\u001b[0m\u001b[0;34m.\u001b[0m\u001b[0mshow\u001b[0m\u001b[0;34m(\u001b[0m\u001b[0;36m4\u001b[0m\u001b[0;34m)\u001b[0m\u001b[0;34m\u001b[0m\u001b[0;34m\u001b[0m\u001b[0m\n\u001b[0m",
            "\u001b[0;32m/usr/local/lib/python3.8/dist-packages/pyspark/sql/dataframe.py\u001b[0m in \u001b[0;36mshow\u001b[0;34m(self, n, truncate, vertical)\u001b[0m\n\u001b[1;32m    604\u001b[0m \u001b[0;34m\u001b[0m\u001b[0m\n\u001b[1;32m    605\u001b[0m         \u001b[0;32mif\u001b[0m \u001b[0misinstance\u001b[0m\u001b[0;34m(\u001b[0m\u001b[0mtruncate\u001b[0m\u001b[0;34m,\u001b[0m \u001b[0mbool\u001b[0m\u001b[0;34m)\u001b[0m \u001b[0;32mand\u001b[0m \u001b[0mtruncate\u001b[0m\u001b[0;34m:\u001b[0m\u001b[0;34m\u001b[0m\u001b[0;34m\u001b[0m\u001b[0m\n\u001b[0;32m--> 606\u001b[0;31m             \u001b[0mprint\u001b[0m\u001b[0;34m(\u001b[0m\u001b[0mself\u001b[0m\u001b[0;34m.\u001b[0m\u001b[0m_jdf\u001b[0m\u001b[0;34m.\u001b[0m\u001b[0mshowString\u001b[0m\u001b[0;34m(\u001b[0m\u001b[0mn\u001b[0m\u001b[0;34m,\u001b[0m \u001b[0;36m20\u001b[0m\u001b[0;34m,\u001b[0m \u001b[0mvertical\u001b[0m\u001b[0;34m)\u001b[0m\u001b[0;34m)\u001b[0m\u001b[0;34m\u001b[0m\u001b[0;34m\u001b[0m\u001b[0m\n\u001b[0m\u001b[1;32m    607\u001b[0m         \u001b[0;32melse\u001b[0m\u001b[0;34m:\u001b[0m\u001b[0;34m\u001b[0m\u001b[0;34m\u001b[0m\u001b[0m\n\u001b[1;32m    608\u001b[0m             \u001b[0;32mtry\u001b[0m\u001b[0;34m:\u001b[0m\u001b[0;34m\u001b[0m\u001b[0;34m\u001b[0m\u001b[0m\n",
            "\u001b[0;32m/usr/local/lib/python3.8/dist-packages/py4j/java_gateway.py\u001b[0m in \u001b[0;36m__call__\u001b[0;34m(self, *args)\u001b[0m\n\u001b[1;32m   1318\u001b[0m             \u001b[0mproto\u001b[0m\u001b[0;34m.\u001b[0m\u001b[0mEND_COMMAND_PART\u001b[0m\u001b[0;34m\u001b[0m\u001b[0;34m\u001b[0m\u001b[0m\n\u001b[1;32m   1319\u001b[0m \u001b[0;34m\u001b[0m\u001b[0m\n\u001b[0;32m-> 1320\u001b[0;31m         \u001b[0manswer\u001b[0m \u001b[0;34m=\u001b[0m \u001b[0mself\u001b[0m\u001b[0;34m.\u001b[0m\u001b[0mgateway_client\u001b[0m\u001b[0;34m.\u001b[0m\u001b[0msend_command\u001b[0m\u001b[0;34m(\u001b[0m\u001b[0mcommand\u001b[0m\u001b[0;34m)\u001b[0m\u001b[0;34m\u001b[0m\u001b[0;34m\u001b[0m\u001b[0m\n\u001b[0m\u001b[1;32m   1321\u001b[0m         return_value = get_return_value(\n\u001b[1;32m   1322\u001b[0m             answer, self.gateway_client, self.target_id, self.name)\n",
            "\u001b[0;32m/usr/local/lib/python3.8/dist-packages/py4j/java_gateway.py\u001b[0m in \u001b[0;36msend_command\u001b[0;34m(self, command, retry, binary)\u001b[0m\n\u001b[1;32m   1036\u001b[0m         \u001b[0mconnection\u001b[0m \u001b[0;34m=\u001b[0m \u001b[0mself\u001b[0m\u001b[0;34m.\u001b[0m\u001b[0m_get_connection\u001b[0m\u001b[0;34m(\u001b[0m\u001b[0;34m)\u001b[0m\u001b[0;34m\u001b[0m\u001b[0;34m\u001b[0m\u001b[0m\n\u001b[1;32m   1037\u001b[0m         \u001b[0;32mtry\u001b[0m\u001b[0;34m:\u001b[0m\u001b[0;34m\u001b[0m\u001b[0;34m\u001b[0m\u001b[0m\n\u001b[0;32m-> 1038\u001b[0;31m             \u001b[0mresponse\u001b[0m \u001b[0;34m=\u001b[0m \u001b[0mconnection\u001b[0m\u001b[0;34m.\u001b[0m\u001b[0msend_command\u001b[0m\u001b[0;34m(\u001b[0m\u001b[0mcommand\u001b[0m\u001b[0;34m)\u001b[0m\u001b[0;34m\u001b[0m\u001b[0;34m\u001b[0m\u001b[0m\n\u001b[0m\u001b[1;32m   1039\u001b[0m             \u001b[0;32mif\u001b[0m \u001b[0mbinary\u001b[0m\u001b[0;34m:\u001b[0m\u001b[0;34m\u001b[0m\u001b[0;34m\u001b[0m\u001b[0m\n\u001b[1;32m   1040\u001b[0m                 \u001b[0;32mreturn\u001b[0m \u001b[0mresponse\u001b[0m\u001b[0;34m,\u001b[0m \u001b[0mself\u001b[0m\u001b[0;34m.\u001b[0m\u001b[0m_create_connection_guard\u001b[0m\u001b[0;34m(\u001b[0m\u001b[0mconnection\u001b[0m\u001b[0;34m)\u001b[0m\u001b[0;34m\u001b[0m\u001b[0;34m\u001b[0m\u001b[0m\n",
            "\u001b[0;32m/usr/local/lib/python3.8/dist-packages/py4j/clientserver.py\u001b[0m in \u001b[0;36msend_command\u001b[0;34m(self, command)\u001b[0m\n\u001b[1;32m    509\u001b[0m         \u001b[0;32mtry\u001b[0m\u001b[0;34m:\u001b[0m\u001b[0;34m\u001b[0m\u001b[0;34m\u001b[0m\u001b[0m\n\u001b[1;32m    510\u001b[0m             \u001b[0;32mwhile\u001b[0m \u001b[0;32mTrue\u001b[0m\u001b[0;34m:\u001b[0m\u001b[0;34m\u001b[0m\u001b[0;34m\u001b[0m\u001b[0m\n\u001b[0;32m--> 511\u001b[0;31m                 \u001b[0manswer\u001b[0m \u001b[0;34m=\u001b[0m \u001b[0msmart_decode\u001b[0m\u001b[0;34m(\u001b[0m\u001b[0mself\u001b[0m\u001b[0;34m.\u001b[0m\u001b[0mstream\u001b[0m\u001b[0;34m.\u001b[0m\u001b[0mreadline\u001b[0m\u001b[0;34m(\u001b[0m\u001b[0;34m)\u001b[0m\u001b[0;34m[\u001b[0m\u001b[0;34m:\u001b[0m\u001b[0;34m-\u001b[0m\u001b[0;36m1\u001b[0m\u001b[0;34m]\u001b[0m\u001b[0;34m)\u001b[0m\u001b[0;34m\u001b[0m\u001b[0;34m\u001b[0m\u001b[0m\n\u001b[0m\u001b[1;32m    512\u001b[0m                 \u001b[0mlogger\u001b[0m\u001b[0;34m.\u001b[0m\u001b[0mdebug\u001b[0m\u001b[0;34m(\u001b[0m\u001b[0;34m\"Answer received: {0}\"\u001b[0m\u001b[0;34m.\u001b[0m\u001b[0mformat\u001b[0m\u001b[0;34m(\u001b[0m\u001b[0manswer\u001b[0m\u001b[0;34m)\u001b[0m\u001b[0;34m)\u001b[0m\u001b[0;34m\u001b[0m\u001b[0;34m\u001b[0m\u001b[0m\n\u001b[1;32m    513\u001b[0m                 \u001b[0;31m# Happens when a the other end is dead. There might be an empty\u001b[0m\u001b[0;34m\u001b[0m\u001b[0;34m\u001b[0m\u001b[0;34m\u001b[0m\u001b[0m\n",
            "\u001b[0;32m/usr/lib/python3.8/socket.py\u001b[0m in \u001b[0;36mreadinto\u001b[0;34m(self, b)\u001b[0m\n\u001b[1;32m    667\u001b[0m         \u001b[0;32mwhile\u001b[0m \u001b[0;32mTrue\u001b[0m\u001b[0;34m:\u001b[0m\u001b[0;34m\u001b[0m\u001b[0;34m\u001b[0m\u001b[0m\n\u001b[1;32m    668\u001b[0m             \u001b[0;32mtry\u001b[0m\u001b[0;34m:\u001b[0m\u001b[0;34m\u001b[0m\u001b[0;34m\u001b[0m\u001b[0m\n\u001b[0;32m--> 669\u001b[0;31m                 \u001b[0;32mreturn\u001b[0m \u001b[0mself\u001b[0m\u001b[0;34m.\u001b[0m\u001b[0m_sock\u001b[0m\u001b[0;34m.\u001b[0m\u001b[0mrecv_into\u001b[0m\u001b[0;34m(\u001b[0m\u001b[0mb\u001b[0m\u001b[0;34m)\u001b[0m\u001b[0;34m\u001b[0m\u001b[0;34m\u001b[0m\u001b[0m\n\u001b[0m\u001b[1;32m    670\u001b[0m             \u001b[0;32mexcept\u001b[0m \u001b[0mtimeout\u001b[0m\u001b[0;34m:\u001b[0m\u001b[0;34m\u001b[0m\u001b[0;34m\u001b[0m\u001b[0m\n\u001b[1;32m    671\u001b[0m                 \u001b[0mself\u001b[0m\u001b[0;34m.\u001b[0m\u001b[0m_timeout_occurred\u001b[0m \u001b[0;34m=\u001b[0m \u001b[0;32mTrue\u001b[0m\u001b[0;34m\u001b[0m\u001b[0;34m\u001b[0m\u001b[0m\n",
            "\u001b[0;31mKeyboardInterrupt\u001b[0m: "
          ]
        }
      ]
    },
    {
      "cell_type": "code",
      "source": [
        "\n",
        "group_cols = [\"department\", \"state\"]\n",
        "df.groupBy(group_cols) \\\n",
        "    .agg(sum(\"salary\").alias(\"sum_salary\"), \\\n",
        "         avg(\"salary\").alias(\"avg_salary\"), \\\n",
        "         sum(\"bonus\").alias(\"sum_bonus\"), \\\n",
        "         max(\"bonus\").alias(\"max_bonus\") \\\n",
        "     ) \\\n",
        "    .show(truncate=False)"
      ],
      "metadata": {
        "id": "EXj4rPhdjTvN"
      },
      "execution_count": null,
      "outputs": []
    },
    {
      "cell_type": "code",
      "source": [
        "# \n",
        "\n",
        "\n",
        "# dftweet.show(5)\n",
        "# df1.count()\n",
        "# dftweet.count()\n",
        "\n",
        "# Date range for which tweets are available\n",
        "# ### checking the date range\n",
        "\n",
        "# col_earlist_date = F.min('date').alias('earliest')\n",
        "# col_latest_date = F.max('date').alias('latest')\n",
        "# df_result = dftweet.select(col_earlist_date, col_latest_date)\n",
        "# df_result.show()\n",
        "# Earliest date is absurd, on checking closely, this should be removed. seems like an error\n",
        "# dftweet.orderBy(\"date\",ascending=True).show(5)\n",
        "# dftweet=dftweet.filter(year('date')>2014)\n",
        "# dftweet.orderBy(\"date\",ascending=True).show(5)\n",
        "# dftweet.count()\n"
      ],
      "metadata": {
        "id": "8rM2pjrooRN5"
      },
      "execution_count": 72,
      "outputs": []
    }
  ],
  "metadata": {
    "colab": {
      "provenance": []
    },
    "gpuClass": "standard",
    "kernelspec": {
      "display_name": "Python 3.10.5 64-bit",
      "language": "python",
      "name": "python3"
    },
    "language_info": {
      "name": "python",
      "version": "3.10.5"
    },
    "vscode": {
      "interpreter": {
        "hash": "aee8b7b246df8f9039afb4144a1f6fd8d2ca17a180786b69acc140d282b71a49"
      }
    }
  },
  "nbformat": 4,
  "nbformat_minor": 0
}